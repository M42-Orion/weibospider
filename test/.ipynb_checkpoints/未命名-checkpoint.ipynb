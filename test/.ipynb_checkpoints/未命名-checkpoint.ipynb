{
 "cells": [
  {
   "cell_type": "code",
   "execution_count": 1,
   "metadata": {},
   "outputs": [],
   "source": [
    "import requests\n",
    "from bs4 import BeautifulSoup\n",
    "import re"
   ]
  },
  {
   "cell_type": "code",
   "execution_count": 16,
   "metadata": {},
   "outputs": [],
   "source": [
    "def request_url(url = 'https://weibo.com/p/1006051792951112/info?mod=pedit_more'):\n",
    "    headers = {\n",
    "        'User-Agent':'Mozilla/5.0 (Windows NT 6.1; Win64; x64; rv:65.0) Gecko/20100101 Firefox/65.0',\n",
    "        'Cookie': 'MLOGIN=1;WEIBOCN_FROM=1110006030;SCF=Art5xhYEloxGpUp_gy0CrNMb39zsZpmvPKFDk3O7TwWj-9gseA5BGJay3NJHhBR0ajxurXNIaTSpkxwX6HWOP9E.;_T_WM=26723672006;SSOLoginState=1583609025;M_WEIBOCN_PARAMS=uicode%3D20000174;XSRF-TOKEN=a88288;SUHB=08JrogEnY36tjx;SUB=_2A25zZ4SRDeRhGeBG7FUV9ifPzT2IHXVQqyzZrDV6PUJbkdAKLWjhkW1NQeFDpIhkzgWQekAYw2p2d7DA9x9ywS4B'\n",
    "    }\n",
    "    results = requests.get(url,headers = headers)\n",
    "    html = results.text\n",
    "    soup = BeautifulSoup(html)\n",
    "    return soup"
   ]
  },
  {
   "cell_type": "code",
   "execution_count": 17,
   "metadata": {},
   "outputs": [
    {
     "name": "stdout",
     "output_type": "stream",
     "text": [
      "<script>FM.view({\"ns\":\"\",\"domid\":\"Pl_Official_PersonalInfo__59\",\"css\":[\"style/css/module/pagecard/PCD_text_b.css?version=eeff52bbdfbb9160\"],\"html\":\"            <!--模块-->\\r\\n                <div class=\\\"WB_cardwrap S_bg2\\\">\\r\\n                    <div class=\\\"PCD_text_b PCD_text_b2\\\">\\r\\n                        <div class=\\\"WB_cardtitle_b S_line2\\\">\\r\\n                            <div class=\\\"obj_name\\\"><h2 class=\\\"main_title W_fb W_f14\\\">基本信息<\\/h2><\\/div>\\r\\n                        <\\/div>\\r\\n                        <div class=\\\"WB_innerwrap\\\">\\r\\n                            <div class=\\\"m_wrap clearfix\\\">\\r\\n                                <ul class=\\\"clearfix\\\">\\r\\n                                                                    <li class=\\\"li_1 clearfix\\\"><span class=\\\"pt_title S_txt2\\\">昵称：<\\/span><span class=\\\"pt_detail\\\">X玖少年团肖战DAYTOY<\\/span><\\/li>\\r\\n                                                                                                                                    <li class=\\\"li_1 clearfix\\\"><span class=\\\"pt_title S_txt2\\\">所在地：<\\/span><span class=\\\"pt_detail\\\">重庆<\\/span><\\/li>\\r\\n                                                                                                    <li class=\\\"li_1 clearfix\\\"><span class=\\\"pt_title S_txt2\\\">性别：<\\/span><span class=\\\"pt_detail\\\">男<\\/span><\\/li>\\r\\n                                                                                                                                                                    <li class=\\\"li_1 clearfix\\\"><span class=\\\"pt_title S_txt2\\\">生日：<\\/span><span class=\\\"pt_detail\\\">天秤座<\\/span><\\/li>\\r\\n                                                                                                                                                                <li class=\\\"li_1 clearfix\\\">\\r\\n                                    <span class=\\\"pt_title S_txt2\\\">个性域名：<\\/span>\\r\\n                                    <span class=\\\"pt_detail\\\">\\r\\n                                                                                                                <a href=\\\"https:\\/\\/weibo.com\\/xiaozhan1?from=inf&wvr=5&loc=infdomain\\\">https:\\/\\/weibo.com\\/xiaozhan1<\\/a>\\r\\n                                                                        <\\/span>\\r\\n                                <\\/li>\\r\\n                                                                                                    <li class=\\\"li_1 clearfix\\\">\\r\\n                                        <span class=\\\"pt_title S_txt2\\\">简介：<\\/span>\\r\\n                                                                                <span class=\\\"pt_detail\\\">有趣的灵魂.<\\/span>\\r\\n                                                                            <\\/li>\\r\\n                                                                                                    <li class=\\\"li_1 clearfix\\\">\\r\\n                                        <span class=\\\"pt_title S_txt2\\\">注册时间：<\\/span>\\r\\n                                        <span class=\\\"pt_detail\\\">\\r\\n                                                                                    2010-08-14                                                                                <\\/span>\\r\\n                                    <\\/li>\\r\\n                                                                <\\/ul>\\r\\n                            <\\/div>\\r\\n                        <\\/div>\\r\\n                    <\\/div>\\r\\n                <\\/div>\\r\\n                <!--\\/\\/模块-->\\r\\n\\r\\n                <!--模块-->\\r\\n                                <!--\\/\\/模块-->\\r\\n                                <!--模块-->\\r\\n                                <!--模块-->\\r\\n                                <div class=\\\"WB_cardwrap S_bg2\\\">\\r\\n                    <div class=\\\"PCD_text_b PCD_text_b2\\\">\\r\\n                        <div class=\\\"WB_cardtitle_b S_line2\\\">\\r\\n                            <div class=\\\"obj_name\\\"><h2 class=\\\"main_title W_fb W_f14\\\">标签信息<\\/h2><\\/div>\\r\\n                        <\\/div>\\r\\n                        <div class=\\\"WB_innerwrap\\\">\\r\\n                            <div class=\\\"m_wrap clearfix\\\">\\r\\n                                <ul class=\\\"clearfix\\\">\\r\\n\\r\\n                                    <li class=\\\"li_1 clearfix\\\"><span class=\\\"pt_title S_txt2\\\">标签：<\\/span>\\r\\n                                    <span class=\\\"pt_detail\\\">\\r\\n                                                                        <a target=\\\"_blank\\\" node-type=\\\"tag\\\" href=\\\"\\/\\/s.weibo.com\\/user\\/&tag=%E5%BE%97%E7%91%9F\\\" class=\\\"W_btn_b W_btn_tag\\\">\\r\\n                                    <span class=\\\"W_arrow_bor W_arrow_bor_l\\\"><i class=\\\"S_line3\\\"><\\/i><em class=\\\"S_bg2_br\\\"><\\/em>\\r\\n                                    <\\/span>\\r\\n                                    得瑟                                    <\\/a>\\r\\n                                                                        <a target=\\\"_blank\\\" node-type=\\\"tag\\\" href=\\\"\\/\\/s.weibo.com\\/user\\/&tag=%E5%A4%A9%E7%A7%A4%E5%BA%A7\\\" class=\\\"W_btn_b W_btn_tag\\\">\\r\\n                                    <span class=\\\"W_arrow_bor W_arrow_bor_l\\\"><i class=\\\"S_line3\\\"><\\/i><em class=\\\"S_bg2_br\\\"><\\/em>\\r\\n                                    <\\/span>\\r\\n                                    天秤座                                    <\\/a>\\r\\n                                                                        <\\/span>\\r\\n                                    <\\/li>\\r\\n                                <\\/ul>\\r\\n                            <\\/div>\\r\\n                        <\\/div>\\r\\n                    <\\/div>\\r\\n                <\\/div>\\r\\n                                <!--\\/\\/模块-->\\r\\n    \"})</script>\n"
     ]
    }
   ],
   "source": []
  },
  {
   "cell_type": "code",
   "execution_count": 11,
   "metadata": {},
   "outputs": [
    {
     "name": "stdout",
     "output_type": "stream",
     "text": [
      "['X玖少年团肖战DAYTOY', '重庆', '男', '天秤座', '有趣的灵魂.']\n",
      "['得瑟', '天秤座']\n"
     ]
    }
   ],
   "source": [
    "# pattern = re.compile(r'([a-z]+) ([a-z]+)', re.I)   # re.I 表示忽略大小写\n",
    "# m = pattern.match('users')\n",
    "def inf():\n",
    "    soup = request_url()\n",
    "    users = str(soup.find_all('script')[-2])\n",
    "    print(users)\n",
    "    print(re.findall(r'<span class=\\\\\"pt_detail\\\\\">(\\S+)<\\\\/span>',users))\n",
    "    print(re.findall(r'<\\\\/span>\\\\r\\\\n                                    (\\S+)                                    <\\\\/a>',users))"
   ]
  },
  {
   "cell_type": "code",
   "execution_count": 49,
   "metadata": {},
   "outputs": [
    {
     "name": "stdout",
     "output_type": "stream",
     "text": [
      "['187', '24726369', '735']\n"
     ]
    }
   ],
   "source": [
    "def Fan():\n",
    "    number = request_url('https://weibo.com/p/1006051792951112/home?from=page_100605&mod=TAB&is_hot=1')\n",
    "    people = str(number.find_all('script')[12])\n",
    "#     print(people)\n",
    "    print(re.findall(r'<strong class=\\\\\"W_f12\\\\\">(\\d+)<\\\\/strong>',people))#关注粉丝微博\n",
    "#     print(re.findall(r'<\\\\/span>\\\\r\\\\n                                    (\\S+)                                    <\\\\/a>',users))\n",
    "Fan()"
   ]
  },
  {
   "cell_type": "code",
   "execution_count": 36,
   "metadata": {},
   "outputs": [
    {
     "data": {
      "text/html": [
       "<script>  \n",
       "code_show=true; \n",
       "function code_toggle() {\n",
       "  if (code_show){\n",
       "    $('div.input').hide();\n",
       "  } else {\n",
       "    $('div.input').show();\n",
       "  }\n",
       "  code_show = !code_show\n",
       "}  \n",
       "$( document ).ready(code_toggle);\n",
       "</script>\n",
       "  <form action=\"javascript:code_toggle()\">\n",
       "    <input type=\"submit\" value=\"Click here to toggle on/off the raw code.\">\n",
       " </form>"
      ],
      "text/plain": [
       "<IPython.core.display.HTML object>"
      ]
     },
     "execution_count": 36,
     "metadata": {},
     "output_type": "execute_result"
    }
   ],
   "source": [
    "from IPython.display import HTML\n",
    "HTML('''<script>  \n",
    "code_show=true; \n",
    "function code_toggle() {\n",
    "  if (code_show){\n",
    "    $(\\'div.input\\').hide();\n",
    "  } else {\n",
    "    $(\\'div.input\\').show();\n",
    "  }\n",
    "  code_show = !code_show\n",
    "}  \n",
    "$( document ).ready(code_toggle);\n",
    "</script>\n",
    "  <form action=\"javascript:code_toggle()\">\n",
    "    <input type=\"submit\" value=\"Click here to toggle on/off the raw code.\">\n",
    " </form>''')\n"
   ]
  },
  {
   "cell_type": "code",
   "execution_count": 25,
   "metadata": {},
   "outputs": [],
   "source": [
    "\n",
    "# https://weibo.com/p/1006051792951112/home?from=page_100605&mod=TAB&is_hot=1\n",
    "\n",
    "import requests\n",
    "import re\n",
    "\n",
    "\n",
    "tmpt_url = 'https://weibo.com/p/1005051678105910/follow?page=%d#Pl_Official_HisRelation__59'\n",
    "def get_data(tmpt_url):\n",
    "    urllist = [tmpt_url%i for i in range(1,6)]\n",
    "    user_id = [] #粉丝ID\n",
    "    user_name = [] #粉丝名称\n",
    "    user_follow = [] #粉丝的关注\n",
    "    user_fans = [] #粉丝的粉丝量\n",
    "    user_address = [] #粉丝的地址\n",
    "\n",
    "    headers = {'Accept':'text/html,application/xhtml+xml,application/xml;q=0.9,image/webp,*/*;q=0.8',\n",
    "    'Accept-Encoding':'gzip, deflate, br',\n",
    "    'Accept-Language':'zh-CN,zh;q=0.8,zh-TW;q=0.7,zh-HK;q=0.5,en-US;q=0.3,en;q=0.2',\n",
    "    'Connection':'keep-alive',\n",
    "    'Cookie':'请在自己的浏览器中查看，因涉及个人隐私不公开',\n",
    "    'Host':'weibo.com',\n",
    "    'Upgrade-Insecure-Requests':'1',\n",
    "    'User-Agent':'Mozilla/5.0 (Windows NT 6.1; Win64; x64; rv:65.0) Gecko/20100101 Firefox/65.0'}\n",
    "\n",
    "    for url in urllist:\n",
    "        html = requests.get(url,headers=headers).text\n",
    "        user_id.extend(re.findall(r'<a class=\\\\\"S_txt1\\\\\" target=\\\\\"_blank\\\\\"  usercard=\\\\\"id=(\\d+)&refer_flag=\\d+_\\\\\" href=\\\\\"\\\\/\\S+\\?refer_flag=\\d+_\\\\\" >\\S+<\\\\/a>',html))\n",
    "        user_name.extend(re.findall(r'<a class=\\\\\"S_txt1\\\\\" target=\\\\\"_blank\\\\\"  usercard=\\\\\"id=\\d+&refer_flag=\\d+_\\\\\" href=\\\\\"\\\\/\\S+\\?refer_flag=\\d+_\\\\\" >(\\S+)<\\\\/a>',html))\n",
    "        user_follow.extend(re.findall(r'关注 <em class=\\\\\"count\\\\\"><a target=\\\\\"_blank\\\\\" href=\\\\\"\\\\/\\d+\\\\/follow\\\\\" >(\\d+)<\\\\/a>',html))\n",
    "        user_fans.extend(re.findall(r'粉丝<em class=\\\\\"count\\\\\"><a target=\\\\\"_blank\\\\\" href=\\\\\"\\\\/\\d+\\\\/fans\\?current=fans\\\\\" >(\\d+)<\\\\/a>',html))\n",
    "        user_address.extend(re.findall(r'<em class=\\\\\"tit S_txt2\\\\\">地址<\\\\/em><span>(\\S+\\s?\\S+?)<\\\\/span>\\\\r\\\\n\\\\t\\\\t\\\\t\\\\t\\\\t<\\\\/div>',html))\n",
    "    print('user_id',user_id)\n",
    "    print('user_name',user_name)\n",
    "    print('user_follow',user_follow)\n",
    "    print('user_fans',user_fans)\n",
    "    print('user_address',user_address)\n"
   ]
  },
  {
   "cell_type": "code",
   "execution_count": null,
   "metadata": {},
   "outputs": [],
   "source": []
  }
 ],
 "metadata": {
  "kernelspec": {
   "display_name": "Python 3",
   "language": "python",
   "name": "python3"
  },
  "language_info": {
   "codemirror_mode": {
    "name": "ipython",
    "version": 3
   },
   "file_extension": ".py",
   "mimetype": "text/x-python",
   "name": "python",
   "nbconvert_exporter": "python",
   "pygments_lexer": "ipython3",
   "version": "3.8.2"
  }
 },
 "nbformat": 4,
 "nbformat_minor": 4
}
