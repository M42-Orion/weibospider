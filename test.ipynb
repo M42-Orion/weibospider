{
 "nbformat": 4,
 "nbformat_minor": 2,
 "metadata": {
  "language_info": {
   "name": "python",
   "codemirror_mode": {
    "name": "ipython",
    "version": 3
   },
   "version": "3.8.2-final"
  },
  "orig_nbformat": 2,
  "file_extension": ".py",
  "mimetype": "text/x-python",
  "name": "python",
  "npconvert_exporter": "python",
  "pygments_lexer": "ipython3",
  "version": 3,
  "kernelspec": {
   "name": "python38232bitweibovenvc993a51d162a4232a03124f431231c69",
   "display_name": "Python 3.8.2 32-bit ('weibo': venv)"
  }
 },
 "cells": [
  {
   "cell_type": "code",
   "execution_count": 1,
   "metadata": {},
   "outputs": [],
   "source": [
    "import requests\n",
    "from bs4 import BeautifulSoup\n",
    "import re"
   ]
  },
  {
   "cell_type": "code",
   "execution_count": 2,
   "metadata": {},
   "outputs": [],
   "source": [
    "'''\n",
    "beautifulsoup常见的用法\n",
    "'''\n",
    "\n",
    "headers = {\n",
    "    'User-Agent':'Mozilla/5.0 (Windows NT 6.1; Win64; x64; rv:65.0) Gecko/20100101 Firefox/65.0',\n",
    "    'Cookie': 'MLOGIN=1;WEIBOCN_FROM=;SCF=Art5xhYEloxGpUp_gy0CrNMb39zsZpmvPKFDk3O7TwWj-9gseA5BGJay3NJHhBR0ajxurXNIaTSpkxwX6HWOP9E.;_T_WM=26723672006;SSOLoginState=1583609025;M_WEIBOCN_PARAMS=uicode%3D20000174;XSRF-TOKEN=a88288;SUHB=08JrogEnY36tjx;SUB=_2A25zZ4SRDeRhGeBG7FUV9ifPzT2IHXVQqyzZrDV6PUJbkdAKLWjhkW1NQeFDpIhkzgWQekAYw2p2d7DA9x9ywS4B'\n",
    "}\n",
    "results = requests.get('https://weibo.com/p/1006051792951112/info?mod=pedit_more',headers = headers)\n",
    "html = results.text\n",
    "soup = BeautifulSoup(html)"
   ]
  },
  {
   "cell_type": "code",
   "execution_count": null,
   "metadata": {},
   "outputs": [],
   "source": [
    "pip3 install --user  jupyter -i http://pypi.douban.com/simple/ --trusted-host pypi.douban.com"
   ]
  }
 ]
}